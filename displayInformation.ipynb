{
 "cells": [
  {
   "cell_type": "code",
   "execution_count": 3,
   "id": "9a8bc44b-0736-44f5-8b3d-f5141e2648fa",
   "metadata": {},
   "outputs": [
    {
     "name": "stdout",
     "output_type": "stream",
     "text": [
      "Ho va ten: Nguyen Phu Minh Quan\n"
     ]
    }
   ],
   "source": [
    "print ('Ho va ten: Nguyen Phu Minh Quan')"
   ]
  },
  {
   "cell_type": "code",
   "execution_count": 4,
   "id": "1a8c1162-8055-4fb5-ad43-834e12a1e115",
   "metadata": {},
   "outputs": [
    {
     "name": "stdout",
     "output_type": "stream",
     "text": [
      "Ngay sinh: 29-11-1991\n"
     ]
    }
   ],
   "source": [
    "print('Ngay sinh: 29-11-1991')"
   ]
  },
  {
   "cell_type": "code",
   "execution_count": 5,
   "id": "0137975c-c19c-43f5-9483-e3814972fbf0",
   "metadata": {},
   "outputs": [
    {
     "name": "stdout",
     "output_type": "stream",
     "text": [
      "Dia chi: Hoa Cuong Bac, Hai Chau, Da Nang\n"
     ]
    }
   ],
   "source": [
    "print('Dia chi: Hoa Cuong Bac, Hai Chau, Da Nang')"
   ]
  },
  {
   "cell_type": "code",
   "execution_count": 6,
   "id": "0412d641-4792-4c08-a717-fe9733aaeb5f",
   "metadata": {},
   "outputs": [
    {
     "name": "stdout",
     "output_type": "stream",
     "text": [
      "Muc dich den voi khoa ho python: De tro thanh Data Analyst\n"
     ]
    }
   ],
   "source": [
    "print('Muc dich den voi khoa ho python: De tro thanh Data Analyst')"
   ]
  },
  {
   "cell_type": "code",
   "execution_count": null,
   "id": "b22b93e8-2d63-4673-a4f9-af61188e963c",
   "metadata": {},
   "outputs": [],
   "source": []
  }
 ],
 "metadata": {
  "kernelspec": {
   "display_name": "Python 3 (ipykernel)",
   "language": "python",
   "name": "python3"
  },
  "language_info": {
   "codemirror_mode": {
    "name": "ipython",
    "version": 3
   },
   "file_extension": ".py",
   "mimetype": "text/x-python",
   "name": "python",
   "nbconvert_exporter": "python",
   "pygments_lexer": "ipython3",
   "version": "3.9.12"
  }
 },
 "nbformat": 4,
 "nbformat_minor": 5
}
